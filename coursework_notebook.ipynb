{
 "cells": [
  {
   "cell_type": "markdown",
   "id": "f9654812",
   "metadata": {},
   "source": [
    "# Introduction"
   ]
  },
  {
   "cell_type": "markdown",
   "id": "78251816",
   "metadata": {},
   "source": [
    "..."
   ]
  },
  {
   "cell_type": "markdown",
   "id": "c6f83d0e",
   "metadata": {},
   "source": [
    "# Dataset completion"
   ]
  },
  {
   "cell_type": "code",
   "execution_count": 44,
   "id": "76158531",
   "metadata": {},
   "outputs": [],
   "source": [
    "import pandas as pd\n",
    "import numpy as np\n",
    "import os\n",
    "import datetime\n",
    "\n",
    "import matplotlib.pyplot as plt\n",
    "import seaborn as sns\n"
   ]
  },
  {
   "cell_type": "markdown",
   "id": "dd0e4b87",
   "metadata": {},
   "source": [
    "Since the structure of the data folder is complex (some countries include multiple leagues, some not), we somehow need to iterate over all folders and all end files."
   ]
  },
  {
   "cell_type": "markdown",
   "id": "b9a58e99",
   "metadata": {},
   "source": [
    "## Indexing all files"
   ]
  },
  {
   "cell_type": "code",
   "execution_count": 45,
   "id": "7f34b912",
   "metadata": {},
   "outputs": [
    {
     "data": {
      "text/html": [
       "<div>\n",
       "<style scoped>\n",
       "    .dataframe tbody tr th:only-of-type {\n",
       "        vertical-align: middle;\n",
       "    }\n",
       "\n",
       "    .dataframe tbody tr th {\n",
       "        vertical-align: top;\n",
       "    }\n",
       "\n",
       "    .dataframe thead th {\n",
       "        text-align: right;\n",
       "    }\n",
       "</style>\n",
       "<table border=\"1\" class=\"dataframe\">\n",
       "  <thead>\n",
       "    <tr style=\"text-align: right;\">\n",
       "      <th></th>\n",
       "      <th>Div</th>\n",
       "      <th>Date</th>\n",
       "      <th>Time</th>\n",
       "      <th>HomeTeam</th>\n",
       "      <th>AwayTeam</th>\n",
       "      <th>FTHG</th>\n",
       "      <th>FTAG</th>\n",
       "      <th>FTR</th>\n",
       "      <th>HTHG</th>\n",
       "      <th>HTAG</th>\n",
       "      <th>...</th>\n",
       "      <th>AvgC&lt;2.5</th>\n",
       "      <th>AHCh</th>\n",
       "      <th>B365CAHH</th>\n",
       "      <th>B365CAHA</th>\n",
       "      <th>PCAHH</th>\n",
       "      <th>PCAHA</th>\n",
       "      <th>MaxCAHH</th>\n",
       "      <th>MaxCAHA</th>\n",
       "      <th>AvgCAHH</th>\n",
       "      <th>AvgCAHA</th>\n",
       "    </tr>\n",
       "  </thead>\n",
       "  <tbody>\n",
       "    <tr>\n",
       "      <th>0</th>\n",
       "      <td>B1</td>\n",
       "      <td>26/07/2019</td>\n",
       "      <td>19:30</td>\n",
       "      <td>Genk</td>\n",
       "      <td>Kortrijk</td>\n",
       "      <td>2</td>\n",
       "      <td>1</td>\n",
       "      <td>H</td>\n",
       "      <td>0</td>\n",
       "      <td>1</td>\n",
       "      <td>...</td>\n",
       "      <td>2.53</td>\n",
       "      <td>-1.25</td>\n",
       "      <td>1.98</td>\n",
       "      <td>1.88</td>\n",
       "      <td>2.01</td>\n",
       "      <td>1.88</td>\n",
       "      <td>2.05</td>\n",
       "      <td>1.96</td>\n",
       "      <td>1.96</td>\n",
       "      <td>1.87</td>\n",
       "    </tr>\n",
       "    <tr>\n",
       "      <th>1</th>\n",
       "      <td>B1</td>\n",
       "      <td>27/07/2019</td>\n",
       "      <td>17:00</td>\n",
       "      <td>Cercle Brugge</td>\n",
       "      <td>Standard</td>\n",
       "      <td>0</td>\n",
       "      <td>2</td>\n",
       "      <td>A</td>\n",
       "      <td>0</td>\n",
       "      <td>0</td>\n",
       "      <td>...</td>\n",
       "      <td>2.24</td>\n",
       "      <td>0.50</td>\n",
       "      <td>1.88</td>\n",
       "      <td>1.98</td>\n",
       "      <td>1.91</td>\n",
       "      <td>1.99</td>\n",
       "      <td>1.95</td>\n",
       "      <td>2.02</td>\n",
       "      <td>1.89</td>\n",
       "      <td>1.94</td>\n",
       "    </tr>\n",
       "    <tr>\n",
       "      <th>2</th>\n",
       "      <td>B1</td>\n",
       "      <td>27/07/2019</td>\n",
       "      <td>19:00</td>\n",
       "      <td>St Truiden</td>\n",
       "      <td>Mouscron</td>\n",
       "      <td>0</td>\n",
       "      <td>1</td>\n",
       "      <td>A</td>\n",
       "      <td>0</td>\n",
       "      <td>1</td>\n",
       "      <td>...</td>\n",
       "      <td>2.10</td>\n",
       "      <td>-0.25</td>\n",
       "      <td>1.83</td>\n",
       "      <td>2.02</td>\n",
       "      <td>1.87</td>\n",
       "      <td>2.03</td>\n",
       "      <td>1.88</td>\n",
       "      <td>2.07</td>\n",
       "      <td>1.83</td>\n",
       "      <td>2.02</td>\n",
       "    </tr>\n",
       "    <tr>\n",
       "      <th>3</th>\n",
       "      <td>B1</td>\n",
       "      <td>27/07/2019</td>\n",
       "      <td>19:00</td>\n",
       "      <td>Waregem</td>\n",
       "      <td>Mechelen</td>\n",
       "      <td>0</td>\n",
       "      <td>2</td>\n",
       "      <td>A</td>\n",
       "      <td>0</td>\n",
       "      <td>1</td>\n",
       "      <td>...</td>\n",
       "      <td>2.28</td>\n",
       "      <td>0.25</td>\n",
       "      <td>1.72</td>\n",
       "      <td>2.07</td>\n",
       "      <td>1.75</td>\n",
       "      <td>2.17</td>\n",
       "      <td>1.80</td>\n",
       "      <td>2.28</td>\n",
       "      <td>1.72</td>\n",
       "      <td>2.15</td>\n",
       "    </tr>\n",
       "    <tr>\n",
       "      <th>4</th>\n",
       "      <td>B1</td>\n",
       "      <td>27/07/2019</td>\n",
       "      <td>19:30</td>\n",
       "      <td>Waasland-Beveren</td>\n",
       "      <td>Club Brugge</td>\n",
       "      <td>1</td>\n",
       "      <td>3</td>\n",
       "      <td>A</td>\n",
       "      <td>1</td>\n",
       "      <td>1</td>\n",
       "      <td>...</td>\n",
       "      <td>2.73</td>\n",
       "      <td>1.50</td>\n",
       "      <td>2.20</td>\n",
       "      <td>1.70</td>\n",
       "      <td>2.19</td>\n",
       "      <td>1.74</td>\n",
       "      <td>2.25</td>\n",
       "      <td>1.83</td>\n",
       "      <td>2.11</td>\n",
       "      <td>1.74</td>\n",
       "    </tr>\n",
       "  </tbody>\n",
       "</table>\n",
       "<p>5 rows × 105 columns</p>\n",
       "</div>"
      ],
      "text/plain": [
       "  Div        Date   Time          HomeTeam     AwayTeam  FTHG  FTAG FTR  HTHG  \\\n",
       "0  B1  26/07/2019  19:30              Genk     Kortrijk     2     1   H     0   \n",
       "1  B1  27/07/2019  17:00     Cercle Brugge     Standard     0     2   A     0   \n",
       "2  B1  27/07/2019  19:00        St Truiden     Mouscron     0     1   A     0   \n",
       "3  B1  27/07/2019  19:00           Waregem     Mechelen     0     2   A     0   \n",
       "4  B1  27/07/2019  19:30  Waasland-Beveren  Club Brugge     1     3   A     1   \n",
       "\n",
       "   HTAG  ... AvgC<2.5  AHCh  B365CAHH  B365CAHA  PCAHH  PCAHA  MaxCAHH  \\\n",
       "0     1  ...     2.53 -1.25      1.98      1.88   2.01   1.88     2.05   \n",
       "1     0  ...     2.24  0.50      1.88      1.98   1.91   1.99     1.95   \n",
       "2     1  ...     2.10 -0.25      1.83      2.02   1.87   2.03     1.88   \n",
       "3     1  ...     2.28  0.25      1.72      2.07   1.75   2.17     1.80   \n",
       "4     1  ...     2.73  1.50      2.20      1.70   2.19   1.74     2.25   \n",
       "\n",
       "   MaxCAHA  AvgCAHH  AvgCAHA  \n",
       "0     1.96     1.96     1.87  \n",
       "1     2.02     1.89     1.94  \n",
       "2     2.07     1.83     2.02  \n",
       "3     2.28     1.72     2.15  \n",
       "4     1.83     2.11     1.74  \n",
       "\n",
       "[5 rows x 105 columns]"
      ]
     },
     "execution_count": 45,
     "metadata": {},
     "output_type": "execute_result"
    }
   ],
   "source": [
    "# We will save the root directory of the data\n",
    "root_dir = \"raw_data\"  \n",
    "file_paths = []\n",
    "\n",
    "# Now we can walk through the directory structure\n",
    "for dirpath, dirnames, filenames in os.walk(root_dir):\n",
    "\n",
    "    # Check each file in the current directory\n",
    "    for filename in filenames:\n",
    "\n",
    "        # Filter for CSV files\n",
    "        if filename.endswith(\".csv\"):\n",
    "            file_path = os.path.join(dirpath, filename)\n",
    "\n",
    "            # Keep track of all file paths\n",
    "            file_paths.append(file_path)\n",
    "            \n",
    "            \n",
    "# Let's look at the first file we found and see if we can load it\n",
    "data = pd.read_csv(file_paths[0])\n",
    "data.head()"
   ]
  },
  {
   "cell_type": "markdown",
   "id": "872c5a62",
   "metadata": {},
   "source": [
    "## Creating the limited dataset"
   ]
  },
  {
   "cell_type": "markdown",
   "id": "576891ba",
   "metadata": {},
   "source": [
    "Ok, it looks like the walk worked and now we have a list of all paths to the csv files. Our first task here is to complete the baseline limited dataset from all files."
   ]
  },
  {
   "cell_type": "code",
   "execution_count": 46,
   "id": "493341bc",
   "metadata": {},
   "outputs": [
    {
     "data": {
      "text/plain": [
       "(42593, 9)"
      ]
     },
     "execution_count": 46,
     "metadata": {},
     "output_type": "execute_result"
    }
   ],
   "source": [
    "# Let's initialize an empty DataFrame to hold our limited data\n",
    "limited_data = pd.DataFrame()\n",
    "\n",
    "# Now let's create a set of features that appear in all files (we will use these later)\n",
    "shared_features = set()\n",
    "\n",
    "for file_path in file_paths:\n",
    "\n",
    "    # Read the CSV file into a DataFrame\n",
    "    temp_df = pd.read_csv(file_path)\n",
    "\n",
    "    # Extract all feature names (column names)\n",
    "    all_features = temp_df.columns.tolist()\n",
    "\n",
    "    # Update the shared_features set with features from the current file\n",
    "    shared_features.update(all_features)\n",
    "    shared_features = shared_features.intersection(set(all_features))\n",
    "\n",
    "\n",
    "    base_features = [\"Div\", \"Date\", \"Time\", \"HomeTeam\", \"AwayTeam\", \"FTHG\", \"FTAG\", \"FTR\"]\n",
    "\n",
    "    # Check if temp_df contains all the base features\n",
    "    if all(feature in all_features for feature in base_features):\n",
    "        temp_df = temp_df[base_features]\n",
    "\n",
    "        # Extract season from the file name and add it as a new column\n",
    "        # The first split extracts the filename, the second split removes the file extension\n",
    "        temp_df[\"Season\"] = file_path.split(os.sep)[-1].split(\".\")[0]  \n",
    "        limited_data = pd.concat([limited_data, temp_df], ignore_index=True)\n",
    "    else:\n",
    "        missing_features = [feature for feature in base_features if feature not in all_features]\n",
    "        print(f\"File: {file_path} is missing features: {missing_features}\")\n",
    "\n",
    "limited_data.shape"
   ]
  },
  {
   "cell_type": "code",
   "execution_count": 47,
   "id": "7182b727",
   "metadata": {},
   "outputs": [
    {
     "data": {
      "text/html": [
       "<div>\n",
       "<style scoped>\n",
       "    .dataframe tbody tr th:only-of-type {\n",
       "        vertical-align: middle;\n",
       "    }\n",
       "\n",
       "    .dataframe tbody tr th {\n",
       "        vertical-align: top;\n",
       "    }\n",
       "\n",
       "    .dataframe thead th {\n",
       "        text-align: right;\n",
       "    }\n",
       "</style>\n",
       "<table border=\"1\" class=\"dataframe\">\n",
       "  <thead>\n",
       "    <tr style=\"text-align: right;\">\n",
       "      <th></th>\n",
       "      <th>Div</th>\n",
       "      <th>Date</th>\n",
       "      <th>Time</th>\n",
       "      <th>HomeTeam</th>\n",
       "      <th>AwayTeam</th>\n",
       "      <th>FTHG</th>\n",
       "      <th>FTAG</th>\n",
       "      <th>FTR</th>\n",
       "      <th>Season</th>\n",
       "    </tr>\n",
       "  </thead>\n",
       "  <tbody>\n",
       "    <tr>\n",
       "      <th>0</th>\n",
       "      <td>B1</td>\n",
       "      <td>26/07/2019</td>\n",
       "      <td>19:30</td>\n",
       "      <td>Genk</td>\n",
       "      <td>Kortrijk</td>\n",
       "      <td>2</td>\n",
       "      <td>1</td>\n",
       "      <td>H</td>\n",
       "      <td>1920</td>\n",
       "    </tr>\n",
       "    <tr>\n",
       "      <th>1</th>\n",
       "      <td>B1</td>\n",
       "      <td>27/07/2019</td>\n",
       "      <td>17:00</td>\n",
       "      <td>Cercle Brugge</td>\n",
       "      <td>Standard</td>\n",
       "      <td>0</td>\n",
       "      <td>2</td>\n",
       "      <td>A</td>\n",
       "      <td>1920</td>\n",
       "    </tr>\n",
       "    <tr>\n",
       "      <th>2</th>\n",
       "      <td>B1</td>\n",
       "      <td>27/07/2019</td>\n",
       "      <td>19:00</td>\n",
       "      <td>St Truiden</td>\n",
       "      <td>Mouscron</td>\n",
       "      <td>0</td>\n",
       "      <td>1</td>\n",
       "      <td>A</td>\n",
       "      <td>1920</td>\n",
       "    </tr>\n",
       "    <tr>\n",
       "      <th>3</th>\n",
       "      <td>B1</td>\n",
       "      <td>27/07/2019</td>\n",
       "      <td>19:00</td>\n",
       "      <td>Waregem</td>\n",
       "      <td>Mechelen</td>\n",
       "      <td>0</td>\n",
       "      <td>2</td>\n",
       "      <td>A</td>\n",
       "      <td>1920</td>\n",
       "    </tr>\n",
       "    <tr>\n",
       "      <th>4</th>\n",
       "      <td>B1</td>\n",
       "      <td>27/07/2019</td>\n",
       "      <td>19:30</td>\n",
       "      <td>Waasland-Beveren</td>\n",
       "      <td>Club Brugge</td>\n",
       "      <td>1</td>\n",
       "      <td>3</td>\n",
       "      <td>A</td>\n",
       "      <td>1920</td>\n",
       "    </tr>\n",
       "  </tbody>\n",
       "</table>\n",
       "</div>"
      ],
      "text/plain": [
       "  Div        Date   Time          HomeTeam     AwayTeam  FTHG  FTAG FTR Season\n",
       "0  B1  26/07/2019  19:30              Genk     Kortrijk     2     1   H   1920\n",
       "1  B1  27/07/2019  17:00     Cercle Brugge     Standard     0     2   A   1920\n",
       "2  B1  27/07/2019  19:00        St Truiden     Mouscron     0     1   A   1920\n",
       "3  B1  27/07/2019  19:00           Waregem     Mechelen     0     2   A   1920\n",
       "4  B1  27/07/2019  19:30  Waasland-Beveren  Club Brugge     1     3   A   1920"
      ]
     },
     "execution_count": 47,
     "metadata": {},
     "output_type": "execute_result"
    }
   ],
   "source": [
    "limited_data.head()"
   ]
  },
  {
   "cell_type": "code",
   "execution_count": 48,
   "id": "7b8a9916",
   "metadata": {},
   "outputs": [
    {
     "data": {
      "text/plain": [
       "Season\n",
       "2122    7316\n",
       "2223    7277\n",
       "2324    7247\n",
       "2021    7171\n",
       "2425    7129\n",
       "1920    6453\n",
       "Name: count, dtype: int64"
      ]
     },
     "execution_count": 48,
     "metadata": {},
     "output_type": "execute_result"
    }
   ],
   "source": [
    "limited_data[\"Season\"].value_counts()"
   ]
  },
  {
   "cell_type": "markdown",
   "id": "74ccaabb",
   "metadata": {},
   "source": [
    "At some point, we will have to decide on how to encode categorical features, especially the teams. "
   ]
  },
  {
   "cell_type": "markdown",
   "id": "79e3dbda",
   "metadata": {},
   "source": [
    "## Creating the full dataset"
   ]
  },
  {
   "cell_type": "code",
   "execution_count": 49,
   "id": "a2c46eac",
   "metadata": {},
   "outputs": [
    {
     "name": "stdout",
     "output_type": "stream",
     "text": [
      "File: raw_data\\belgium\\1\\1920.csv has extra features: ['IWH', 'IWD', 'IWA', 'VCH', 'VCD', 'VCA', 'IWCH', 'IWCD', 'IWCA', 'VCCH', 'VCCD', 'VCCA']\n",
      "File: raw_data\\belgium\\1\\2021.csv has extra features: ['IWH', 'IWD', 'IWA', 'VCH', 'VCD', 'VCA', 'IWCH', 'IWCD', 'IWCA', 'VCCH', 'VCCD', 'VCCA']\n",
      "File: raw_data\\belgium\\1\\2122.csv has extra features: ['IWH', 'IWD', 'IWA', 'VCH', 'VCD', 'VCA', 'IWCH', 'IWCD', 'IWCA', 'VCCH', 'VCCD', 'VCCA', 'Unnamed: 105']\n",
      "File: raw_data\\belgium\\1\\2223.csv has extra features: ['IWH', 'IWD', 'IWA', 'VCH', 'VCD', 'VCA', 'IWCH', 'IWCD', 'IWCA', 'VCCH', 'VCCD', 'VCCA']\n",
      "File: raw_data\\belgium\\1\\2324.csv has extra features: ['IWH', 'IWD', 'IWA', 'VCH', 'VCD', 'VCA', 'IWCH', 'IWCD', 'IWCA', 'VCCH', 'VCCD', 'VCCA']\n",
      "File: raw_data\\belgium\\1\\2425.csv has extra features: ['Unnamed: 119', 'Unnamed: 120']\n",
      "File: raw_data\\england\\0\\1920.csv has extra features: ['Referee', 'IWH', 'IWD', 'IWA', 'VCH', 'VCD', 'VCA', 'IWCH', 'IWCD', 'IWCA', 'VCCH', 'VCCD', 'VCCA']\n",
      "File: raw_data\\england\\0\\2021.csv has extra features: ['Referee', 'IWH', 'IWD', 'IWA', 'VCH', 'VCD', 'VCA', 'IWCH', 'IWCD', 'IWCA', 'VCCH', 'VCCD', 'VCCA']\n",
      "File: raw_data\\england\\0\\2122.csv has extra features: ['Referee', 'IWH', 'IWD', 'IWA', 'VCH', 'VCD', 'VCA', 'IWCH', 'IWCD', 'IWCA', 'VCCH', 'VCCD', 'VCCA']\n",
      "File: raw_data\\england\\0\\2223.csv has extra features: ['Referee', 'IWH', 'IWD', 'IWA', 'VCH', 'VCD', 'VCA', 'IWCH', 'IWCD', 'IWCA', 'VCCH', 'VCCD', 'VCCA']\n",
      "File: raw_data\\england\\0\\2324.csv has extra features: ['Referee', 'IWH', 'IWD', 'IWA', 'VCH', 'VCD', 'VCA', 'IWCH', 'IWCD', 'IWCA', 'VCCH', 'VCCD', 'VCCA']\n",
      "File: raw_data\\england\\0\\2425.csv has extra features: ['Referee']\n",
      "File: raw_data\\england\\1\\1920.csv has extra features: ['Referee', 'IWH', 'IWD', 'IWA', 'VCH', 'VCD', 'VCA', 'IWCH', 'IWCD', 'IWCA', 'VCCH', 'VCCD', 'VCCA']\n",
      "File: raw_data\\england\\1\\2021.csv has extra features: ['Referee', 'IWH', 'IWD', 'IWA', 'VCH', 'VCD', 'VCA', 'IWCH', 'IWCD', 'IWCA', 'VCCH', 'VCCD', 'VCCA']\n",
      "File: raw_data\\england\\1\\2122.csv has extra features: ['Referee', 'IWH', 'IWD', 'IWA', 'VCH', 'VCD', 'VCA', 'IWCH', 'IWCD', 'IWCA', 'VCCH', 'VCCD', 'VCCA']\n",
      "File: raw_data\\england\\1\\2223.csv has extra features: ['Referee', 'IWH', 'IWD', 'IWA', 'VCH', 'VCD', 'VCA', 'IWCH', 'IWCD', 'IWCA', 'VCCH', 'VCCD', 'VCCA']\n",
      "File: raw_data\\england\\1\\2324.csv has extra features: ['Referee', 'IWH', 'IWD', 'IWA', 'VCH', 'VCD', 'VCA', 'IWCH', 'IWCD', 'IWCA', 'VCCH', 'VCCD', 'VCCA']\n",
      "File: raw_data\\england\\1\\2425.csv has extra features: ['Referee']\n",
      "File: raw_data\\england\\2\\1920.csv has extra features: ['Referee', 'IWH', 'IWD', 'IWA', 'VCH', 'VCD', 'VCA', 'IWCH', 'IWCD', 'IWCA', 'VCCH', 'VCCD', 'VCCA']\n",
      "File: raw_data\\england\\2\\2021.csv has extra features: ['Referee', 'IWH', 'IWD', 'IWA', 'VCH', 'VCD', 'VCA', 'IWCH', 'IWCD', 'IWCA', 'VCCH', 'VCCD', 'VCCA']\n",
      "File: raw_data\\england\\2\\2122.csv has extra features: ['Referee', 'IWH', 'IWD', 'IWA', 'VCH', 'VCD', 'VCA', 'IWCH', 'IWCD', 'IWCA', 'VCCH', 'VCCD', 'VCCA']\n",
      "File: raw_data\\england\\2\\2223.csv has extra features: ['Referee', 'IWH', 'IWD', 'IWA', 'VCH', 'VCD', 'VCA', 'IWCH', 'IWCD', 'IWCA', 'VCCH', 'VCCD', 'VCCA']\n",
      "File: raw_data\\england\\2\\2324.csv has extra features: ['Referee', 'IWH', 'IWD', 'IWA', 'VCH', 'VCD', 'VCA', 'IWCH', 'IWCD', 'IWCA', 'VCCH', 'VCCD', 'VCCA']\n",
      "File: raw_data\\england\\2\\2425.csv has extra features: ['Referee']\n",
      "File: raw_data\\england\\3\\1920.csv has extra features: ['Referee', 'IWH', 'IWD', 'IWA', 'VCH', 'VCD', 'VCA', 'IWCH', 'IWCD', 'IWCA', 'VCCH', 'VCCD', 'VCCA']\n",
      "File: raw_data\\england\\3\\2021.csv has extra features: ['Referee', 'IWH', 'IWD', 'IWA', 'VCH', 'VCD', 'VCA', 'IWCH', 'IWCD', 'IWCA', 'VCCH', 'VCCD', 'VCCA']\n",
      "File: raw_data\\england\\3\\2122.csv has extra features: ['Referee', 'IWH', 'IWD', 'IWA', 'VCH', 'VCD', 'VCA', 'IWCH', 'IWCD', 'IWCA', 'VCCH', 'VCCD', 'VCCA']\n",
      "File: raw_data\\england\\3\\2223.csv has extra features: ['Referee', 'IWH', 'IWD', 'IWA', 'VCH', 'VCD', 'VCA', 'IWCH', 'IWCD', 'IWCA', 'VCCH', 'VCCD', 'VCCA']\n",
      "File: raw_data\\england\\3\\2324.csv has extra features: ['Referee', 'IWH', 'IWD', 'IWA', 'VCH', 'VCD', 'VCA', 'IWCH', 'IWCD', 'IWCA', 'VCCH', 'VCCD', 'VCCA']\n",
      "File: raw_data\\england\\3\\2425.csv has extra features: ['Referee']\n",
      "File: raw_data\\france\\1\\1920.csv has extra features: ['IWH', 'IWD', 'IWA', 'VCH', 'VCD', 'VCA', 'IWCH', 'IWCD', 'IWCA', 'VCCH', 'VCCD', 'VCCA']\n",
      "File: raw_data\\france\\1\\2021.csv has extra features: ['IWH', 'IWD', 'IWA', 'VCH', 'VCD', 'VCA', 'IWCH', 'IWCD', 'IWCA', 'VCCH', 'VCCD', 'VCCA']\n",
      "File: raw_data\\france\\1\\2122.csv has extra features: ['IWH', 'IWD', 'IWA', 'VCH', 'VCD', 'VCA', 'IWCH', 'IWCD', 'IWCA', 'VCCH', 'VCCD', 'VCCA']\n",
      "File: raw_data\\france\\1\\2223.csv has extra features: ['IWH', 'IWD', 'IWA', 'VCH', 'VCD', 'VCA', 'IWCH', 'IWCD', 'IWCA', 'VCCH', 'VCCD', 'VCCA']\n",
      "File: raw_data\\france\\1\\2324.csv has extra features: ['IWH', 'IWD', 'IWA', 'VCH', 'VCD', 'VCA', 'IWCH', 'IWCD', 'IWCA', 'VCCH', 'VCCD', 'VCCA']\n",
      "File: raw_data\\france\\1\\2425.csv has extra features: []\n",
      "File: raw_data\\france\\2\\1920.csv has extra features: ['IWH', 'IWD', 'IWA', 'VCH', 'VCD', 'VCA', 'IWCH', 'IWCD', 'IWCA', 'VCCH', 'VCCD', 'VCCA']\n",
      "File: raw_data\\france\\2\\2021.csv has extra features: ['IWH', 'IWD', 'IWA', 'VCH', 'VCD', 'VCA', 'IWCH', 'IWCD', 'IWCA', 'VCCH', 'VCCD', 'VCCA']\n",
      "File: raw_data\\france\\2\\2122.csv has extra features: ['IWH', 'IWD', 'IWA', 'VCH', 'VCD', 'VCA', 'IWCH', 'IWCD', 'IWCA', 'VCCH', 'VCCD', 'VCCA']\n",
      "File: raw_data\\france\\2\\2223.csv has extra features: ['IWH', 'IWD', 'IWA', 'VCH', 'VCD', 'VCA', 'IWCH', 'IWCD', 'IWCA', 'VCCH', 'VCCD', 'VCCA']\n",
      "File: raw_data\\france\\2\\2324.csv has extra features: ['IWH', 'IWD', 'IWA', 'VCH', 'VCD', 'VCA', 'IWCH', 'IWCD', 'IWCA', 'VCCH', 'VCCD', 'VCCA']\n",
      "File: raw_data\\france\\2\\2425.csv has extra features: []\n",
      "File: raw_data\\germany\\1\\1920.csv has extra features: ['IWH', 'IWD', 'IWA', 'VCH', 'VCD', 'VCA', 'IWCH', 'IWCD', 'IWCA', 'VCCH', 'VCCD', 'VCCA']\n",
      "File: raw_data\\germany\\1\\2021.csv has extra features: ['IWH', 'IWD', 'IWA', 'VCH', 'VCD', 'VCA', 'IWCH', 'IWCD', 'IWCA', 'VCCH', 'VCCD', 'VCCA']\n",
      "File: raw_data\\germany\\1\\2122.csv has extra features: ['IWH', 'IWD', 'IWA', 'VCH', 'VCD', 'VCA', 'IWCH', 'IWCD', 'IWCA', 'VCCH', 'VCCD', 'VCCA']\n",
      "File: raw_data\\germany\\1\\2223.csv has extra features: ['IWH', 'IWD', 'IWA', 'VCH', 'VCD', 'VCA', 'IWCH', 'IWCD', 'IWCA', 'VCCH', 'VCCD', 'VCCA']\n",
      "File: raw_data\\germany\\1\\2324.csv has extra features: ['IWH', 'IWD', 'IWA', 'VCH', 'VCD', 'VCA', 'IWCH', 'IWCD', 'IWCA', 'VCCH', 'VCCD', 'VCCA']\n",
      "File: raw_data\\germany\\1\\2425.csv has extra features: []\n",
      "File: raw_data\\germany\\2\\1920.csv has extra features: ['IWH', 'IWD', 'IWA', 'VCH', 'VCD', 'VCA', 'IWCH', 'IWCD', 'IWCA', 'VCCH', 'VCCD', 'VCCA']\n",
      "File: raw_data\\germany\\2\\2021.csv has extra features: ['IWH', 'IWD', 'IWA', 'VCH', 'VCD', 'VCA', 'IWCH', 'IWCD', 'IWCA', 'VCCH', 'VCCD', 'VCCA']\n",
      "File: raw_data\\germany\\2\\2122.csv has extra features: ['IWH', 'IWD', 'IWA', 'VCH', 'VCD', 'VCA', 'IWCH', 'IWCD', 'IWCA', 'VCCH', 'VCCD', 'VCCA']\n",
      "File: raw_data\\germany\\2\\2223.csv has extra features: ['IWH', 'IWD', 'IWA', 'VCH', 'VCD', 'VCA', 'IWCH', 'IWCD', 'IWCA', 'VCCH', 'VCCD', 'VCCA']\n",
      "File: raw_data\\germany\\2\\2324.csv has extra features: ['IWH', 'IWD', 'IWA', 'VCH', 'VCD', 'VCA', 'IWCH', 'IWCD', 'IWCA', 'VCCH', 'VCCD', 'VCCA']\n",
      "File: raw_data\\germany\\2\\2425.csv has extra features: []\n",
      "File: raw_data\\greece\\1\\1920.csv has extra features: ['IWH', 'IWD', 'IWA', 'VCH', 'VCD', 'VCA', 'IWCH', 'IWCD', 'IWCA', 'VCCH', 'VCCD', 'VCCA']\n",
      "File: raw_data\\greece\\1\\2021.csv has extra features: ['IWH', 'IWD', 'IWA', 'VCH', 'VCD', 'VCA', 'IWCH', 'IWCD', 'IWCA', 'VCCH', 'VCCD', 'VCCA']\n",
      "File: raw_data\\greece\\1\\2122.csv has extra features: ['IWH', 'IWD', 'IWA', 'VCH', 'VCD', 'VCA', 'IWCH', 'IWCD', 'IWCA', 'VCCH', 'VCCD', 'VCCA']\n",
      "File: raw_data\\greece\\1\\2223.csv has extra features: ['IWH', 'IWD', 'IWA', 'VCH', 'VCD', 'VCA', 'IWCH', 'IWCD', 'IWCA', 'VCCH', 'VCCD', 'VCCA']\n",
      "File: raw_data\\greece\\1\\2324.csv has extra features: ['IWH', 'IWD', 'IWA', 'VCH', 'VCD', 'VCA', 'IWCH', 'IWCD', 'IWCA', 'VCCH', 'VCCD', 'VCCA']\n",
      "File: raw_data\\greece\\1\\2425.csv has extra features: []\n",
      "File: raw_data\\italy\\1\\1920.csv has extra features: ['IWH', 'IWD', 'IWA', 'VCH', 'VCD', 'VCA', 'IWCH', 'IWCD', 'IWCA', 'VCCH', 'VCCD', 'VCCA']\n",
      "File: raw_data\\italy\\1\\2021.csv has extra features: ['IWH', 'IWD', 'IWA', 'VCH', 'VCD', 'VCA', 'IWCH', 'IWCD', 'IWCA', 'VCCH', 'VCCD', 'VCCA']\n",
      "File: raw_data\\italy\\1\\2122.csv has extra features: ['IWH', 'IWD', 'IWA', 'VCH', 'VCD', 'VCA', 'IWCH', 'IWCD', 'IWCA', 'VCCH', 'VCCD', 'VCCA']\n",
      "File: raw_data\\italy\\1\\2223.csv has extra features: ['IWH', 'IWD', 'IWA', 'VCH', 'VCD', 'VCA', 'IWCH', 'IWCD', 'IWCA', 'VCCH', 'VCCD', 'VCCA']\n",
      "File: raw_data\\italy\\1\\2324.csv has extra features: ['IWH', 'IWD', 'IWA', 'VCH', 'VCD', 'VCA', 'IWCH', 'IWCD', 'IWCA', 'VCCH', 'VCCD', 'VCCA']\n",
      "File: raw_data\\italy\\1\\2425.csv has extra features: []\n",
      "File: raw_data\\italy\\2\\1920.csv has extra features: ['IWH', 'IWD', 'IWA', 'VCH', 'VCD', 'VCA', 'IWCH', 'IWCD', 'IWCA', 'VCCH', 'VCCD', 'VCCA']\n",
      "File: raw_data\\italy\\2\\2021.csv has extra features: ['IWH', 'IWD', 'IWA', 'VCH', 'VCD', 'VCA', 'IWCH', 'IWCD', 'IWCA', 'VCCH', 'VCCD', 'VCCA']\n",
      "File: raw_data\\italy\\2\\2122.csv has extra features: ['IWH', 'IWD', 'IWA', 'VCH', 'VCD', 'VCA', 'IWCH', 'IWCD', 'IWCA', 'VCCH', 'VCCD', 'VCCA']\n",
      "File: raw_data\\italy\\2\\2223.csv has extra features: ['IWH', 'IWD', 'IWA', 'VCH', 'VCD', 'VCA', 'IWCH', 'IWCD', 'IWCA', 'VCCH', 'VCCD', 'VCCA']\n",
      "File: raw_data\\italy\\2\\2324.csv has extra features: ['IWH', 'IWD', 'IWA', 'VCH', 'VCD', 'VCA', 'IWCH', 'IWCD', 'IWCA', 'VCCH', 'VCCD', 'VCCA']\n",
      "File: raw_data\\italy\\2\\2425.csv has extra features: []\n",
      "File: raw_data\\netherlands\\1\\1920.csv has extra features: ['IWH', 'IWD', 'IWA', 'VCH', 'VCD', 'VCA', 'IWCH', 'IWCD', 'IWCA', 'VCCH', 'VCCD', 'VCCA']\n",
      "File: raw_data\\netherlands\\1\\2021.csv has extra features: ['IWH', 'IWD', 'IWA', 'VCH', 'VCD', 'VCA', 'IWCH', 'IWCD', 'IWCA', 'VCCH', 'VCCD', 'VCCA']\n",
      "File: raw_data\\netherlands\\1\\2122.csv has extra features: ['IWH', 'IWD', 'IWA', 'VCH', 'VCD', 'VCA', 'IWCH', 'IWCD', 'IWCA', 'VCCH', 'VCCD', 'VCCA']\n",
      "File: raw_data\\netherlands\\1\\2223.csv has extra features: ['IWH', 'IWD', 'IWA', 'VCH', 'VCD', 'VCA', 'IWCH', 'IWCD', 'IWCA', 'VCCH', 'VCCD', 'VCCA']\n",
      "File: raw_data\\netherlands\\1\\2324.csv has extra features: ['IWH', 'IWD', 'IWA', 'VCH', 'VCD', 'VCA', 'IWCH', 'IWCD', 'IWCA', 'VCCH', 'VCCD', 'VCCA']\n",
      "File: raw_data\\netherlands\\1\\2425.csv has extra features: []\n",
      "File: raw_data\\portugal\\1\\1920.csv has extra features: ['IWH', 'IWD', 'IWA', 'VCH', 'VCD', 'VCA', 'IWCH', 'IWCD', 'IWCA', 'VCCH', 'VCCD', 'VCCA']\n",
      "File: raw_data\\portugal\\1\\2021.csv has extra features: ['IWH', 'IWD', 'IWA', 'VCH', 'VCD', 'VCA', 'IWCH', 'IWCD', 'IWCA', 'VCCH', 'VCCD', 'VCCA']\n",
      "File: raw_data\\portugal\\1\\2122.csv has extra features: ['IWH', 'IWD', 'IWA', 'VCH', 'VCD', 'VCA', 'IWCH', 'IWCD', 'IWCA', 'VCCH', 'VCCD', 'VCCA']\n",
      "File: raw_data\\portugal\\1\\2223.csv has extra features: ['IWH', 'IWD', 'IWA', 'VCH', 'VCD', 'VCA', 'IWCH', 'IWCD', 'IWCA', 'VCCH', 'VCCD', 'VCCA']\n",
      "File: raw_data\\portugal\\1\\2324.csv has extra features: ['IWH', 'IWD', 'IWA', 'VCH', 'VCD', 'VCA', 'IWCH', 'IWCD', 'IWCA', 'VCCH', 'VCCD', 'VCCA']\n",
      "File: raw_data\\portugal\\1\\2425.csv has extra features: []\n",
      "File: raw_data\\scotland\\0\\1920.csv has extra features: ['Referee', 'IWH', 'IWD', 'IWA', 'VCH', 'VCD', 'VCA', 'IWCH', 'IWCD', 'IWCA', 'VCCH', 'VCCD', 'VCCA']\n",
      "File: raw_data\\scotland\\0\\2021.csv has extra features: ['Referee', 'IWH', 'IWD', 'IWA', 'VCH', 'VCD', 'VCA', 'IWCH', 'IWCD', 'IWCA', 'VCCH', 'VCCD', 'VCCA']\n",
      "File: raw_data\\scotland\\0\\2122.csv has extra features: ['Referee', 'IWH', 'IWD', 'IWA', 'VCH', 'VCD', 'VCA', 'IWCH', 'IWCD', 'IWCA', 'VCCH', 'VCCD', 'VCCA']\n",
      "File: raw_data\\scotland\\0\\2223.csv has extra features: ['Referee', 'IWH', 'IWD', 'IWA', 'VCH', 'VCD', 'VCA', 'IWCH', 'IWCD', 'IWCA', 'VCCH', 'VCCD', 'VCCA']\n",
      "File: raw_data\\scotland\\0\\2324.csv has extra features: ['Referee', 'IWH', 'IWD', 'IWA', 'VCH', 'VCD', 'VCA', 'IWCH', 'IWCD', 'IWCA', 'VCCH', 'VCCD', 'VCCA']\n",
      "File: raw_data\\scotland\\0\\2425.csv has extra features: ['Referee', 'Unnamed: 120', 'Unnamed: 121']\n",
      "File: raw_data\\scotland\\1\\1920.csv has extra features: ['Referee', 'IWH', 'IWD', 'IWA', 'VCH', 'VCD', 'VCA', 'IWCH', 'IWCD', 'IWCA', 'VCCH', 'VCCD', 'VCCA']\n",
      "File: raw_data\\scotland\\1\\2021.csv has extra features: ['Referee', 'IWH', 'IWD', 'IWA', 'VCH', 'VCD', 'VCA', 'IWCH', 'IWCD', 'IWCA', 'VCCH', 'VCCD', 'VCCA']\n",
      "File: raw_data\\scotland\\1\\2122.csv has extra features: ['Referee', 'IWH', 'IWD', 'IWA', 'VCH', 'VCD', 'VCA', 'IWCH', 'IWCD', 'IWCA', 'VCCH', 'VCCD', 'VCCA']\n",
      "File: raw_data\\scotland\\1\\2223.csv has extra features: ['Referee', 'IWH', 'IWD', 'IWA', 'VCH', 'VCD', 'VCA', 'IWCH', 'IWCD', 'IWCA', 'VCCH', 'VCCD', 'VCCA']\n",
      "File: raw_data\\scotland\\1\\2324.csv has extra features: ['Referee', 'IWH', 'IWD', 'IWA', 'VCH', 'VCD', 'VCA', 'IWCH', 'IWCD', 'IWCA', 'VCCH', 'VCCD', 'VCCA']\n",
      "File: raw_data\\scotland\\1\\2425.csv has extra features: ['Referee']\n",
      "File: raw_data\\scotland\\2\\1920.csv has extra features: ['Referee', 'IWH', 'IWD', 'IWA', 'VCH', 'VCD', 'VCA', 'IWCH', 'IWCD', 'IWCA', 'VCCH', 'VCCD', 'VCCA']\n",
      "File: raw_data\\scotland\\2\\2021.csv has extra features: ['Referee', 'IWH', 'IWD', 'IWA', 'VCH', 'VCD', 'VCA', 'IWCH', 'IWCD', 'IWCA', 'VCCH', 'VCCD', 'VCCA']\n",
      "File: raw_data\\scotland\\2\\2122.csv has extra features: ['Referee', 'IWH', 'IWD', 'IWA', 'VCH', 'VCD', 'VCA', 'IWCH', 'IWCD', 'IWCA', 'VCCH', 'VCCD', 'VCCA']\n",
      "File: raw_data\\scotland\\2\\2223.csv has extra features: ['Referee', 'IWH', 'IWD', 'IWA', 'VCH', 'VCD', 'VCA', 'IWCH', 'IWCD', 'IWCA', 'VCCH', 'VCCD', 'VCCA']\n",
      "File: raw_data\\scotland\\2\\2324.csv has extra features: ['Referee', 'IWH', 'IWD', 'IWA', 'VCH', 'VCD', 'VCA', 'IWCH', 'IWCD', 'IWCA', 'VCCH', 'VCCD', 'VCCA']\n",
      "File: raw_data\\scotland\\2\\2425.csv has extra features: ['Referee']\n",
      "File: raw_data\\scotland\\3\\1920.csv has extra features: ['Referee', 'IWH', 'IWD', 'IWA', 'VCH', 'VCD', 'VCA', 'IWCH', 'IWCD', 'IWCA', 'VCCH', 'VCCD', 'VCCA']\n",
      "File: raw_data\\scotland\\3\\2021.csv has extra features: ['Referee', 'IWH', 'IWD', 'IWA', 'VCH', 'VCD', 'VCA', 'IWCH', 'IWCD', 'IWCA', 'VCCH', 'VCCD', 'VCCA']\n",
      "File: raw_data\\scotland\\3\\2122.csv has extra features: ['Referee', 'IWH', 'IWD', 'IWA', 'VCH', 'VCD', 'VCA', 'IWCH', 'IWCD', 'IWCA', 'VCCH', 'VCCD', 'VCCA', 'Unnamed: 106']\n",
      "File: raw_data\\scotland\\3\\2223.csv has extra features: ['Referee', 'IWH', 'IWD', 'IWA', 'VCH', 'VCD', 'VCA', 'IWCH', 'IWCD', 'IWCA', 'VCCH', 'VCCD', 'VCCA']\n",
      "File: raw_data\\scotland\\3\\2324.csv has extra features: ['Referee', 'IWH', 'IWD', 'IWA', 'VCH', 'VCD', 'VCA', 'IWCH', 'IWCD', 'IWCA', 'VCCH', 'VCCD', 'VCCA']\n",
      "File: raw_data\\scotland\\3\\2425.csv has extra features: ['Referee']\n",
      "File: raw_data\\spain\\1\\1920.csv has extra features: ['IWH', 'IWD', 'IWA', 'VCH', 'VCD', 'VCA', 'IWCH', 'IWCD', 'IWCA', 'VCCH', 'VCCD', 'VCCA']\n",
      "File: raw_data\\spain\\1\\2021.csv has extra features: ['IWH', 'IWD', 'IWA', 'VCH', 'VCD', 'VCA', 'IWCH', 'IWCD', 'IWCA', 'VCCH', 'VCCD', 'VCCA']\n",
      "File: raw_data\\spain\\1\\2122.csv has extra features: ['IWH', 'IWD', 'IWA', 'VCH', 'VCD', 'VCA', 'IWCH', 'IWCD', 'IWCA', 'VCCH', 'VCCD', 'VCCA']\n",
      "File: raw_data\\spain\\1\\2223.csv has extra features: ['IWH', 'IWD', 'IWA', 'VCH', 'VCD', 'VCA', 'IWCH', 'IWCD', 'IWCA', 'VCCH', 'VCCD', 'VCCA']\n",
      "File: raw_data\\spain\\1\\2324.csv has extra features: ['IWH', 'IWD', 'IWA', 'VCH', 'VCD', 'VCA', 'IWCH', 'IWCD', 'IWCA', 'VCCH', 'VCCD', 'VCCA']\n",
      "File: raw_data\\spain\\1\\2425.csv has extra features: []\n",
      "File: raw_data\\spain\\2\\1920.csv has extra features: ['IWH', 'IWD', 'IWA', 'VCH', 'VCD', 'VCA', 'IWCH', 'IWCD', 'IWCA', 'VCCH', 'VCCD', 'VCCA']\n",
      "File: raw_data\\spain\\2\\2021.csv has extra features: ['IWH', 'IWD', 'IWA', 'VCH', 'VCD', 'VCA', 'IWCH', 'IWCD', 'IWCA', 'VCCH', 'VCCD', 'VCCA']\n",
      "File: raw_data\\spain\\2\\2122.csv has extra features: ['IWH', 'IWD', 'IWA', 'VCH', 'VCD', 'VCA', 'IWCH', 'IWCD', 'IWCA', 'VCCH', 'VCCD', 'VCCA']\n",
      "File: raw_data\\spain\\2\\2223.csv has extra features: ['IWH', 'IWD', 'IWA', 'VCH', 'VCD', 'VCA', 'IWCH', 'IWCD', 'IWCA', 'VCCH', 'VCCD', 'VCCA']\n",
      "File: raw_data\\spain\\2\\2324.csv has extra features: ['IWH', 'IWD', 'IWA', 'VCH', 'VCD', 'VCA', 'IWCH', 'IWCD', 'IWCA', 'VCCH', 'VCCD', 'VCCA']\n",
      "File: raw_data\\spain\\2\\2425.csv has extra features: []\n",
      "File: raw_data\\turkey\\1\\1920.csv has extra features: ['IWH', 'IWD', 'IWA', 'VCH', 'VCD', 'VCA', 'IWCH', 'IWCD', 'IWCA', 'VCCH', 'VCCD', 'VCCA']\n",
      "File: raw_data\\turkey\\1\\2021.csv has extra features: ['IWH', 'IWD', 'IWA', 'VCH', 'VCD', 'VCA', 'IWCH', 'IWCD', 'IWCA', 'VCCH', 'VCCD', 'VCCA']\n",
      "File: raw_data\\turkey\\1\\2122.csv has extra features: ['IWH', 'IWD', 'IWA', 'VCH', 'VCD', 'VCA', 'IWCH', 'IWCD', 'IWCA', 'VCCH', 'VCCD', 'VCCA']\n",
      "File: raw_data\\turkey\\1\\2223.csv has extra features: ['IWH', 'IWD', 'IWA', 'VCH', 'VCD', 'VCA', 'IWCH', 'IWCD', 'IWCA', 'VCCH', 'VCCD', 'VCCA']\n",
      "File: raw_data\\turkey\\1\\2324.csv has extra features: ['IWH', 'IWD', 'IWA', 'VCH', 'VCD', 'VCA', 'IWCH', 'IWCD', 'IWCA', 'VCCH', 'VCCD', 'VCCA']\n",
      "File: raw_data\\turkey\\1\\2425.csv has extra features: []\n"
     ]
    },
    {
     "data": {
      "text/plain": [
       "(42593, 137)"
      ]
     },
     "execution_count": 49,
     "metadata": {},
     "output_type": "execute_result"
    }
   ],
   "source": [
    "full_data = pd.DataFrame()\n",
    "\n",
    "for file_path in file_paths:\n",
    "\n",
    "    # Read the CSV file into a DataFrame\n",
    "    temp_df = pd.read_csv(file_path)\n",
    "\n",
    "    # Extract the division name for potential future use\n",
    "    division = temp_df[\"Div\"].iloc[0]\n",
    "\n",
    "    # Extract all feature names (column names)\n",
    "    all_features = temp_df.columns.tolist()\n",
    "    \n",
    "    # Check if temp_df contains any extra features, other than the shared features\n",
    "    if any(feature not in all_features and feature not in shared_features for feature in all_features):\n",
    "        print(f\"File: {file_path} has no extra features.\")\n",
    "    else:\n",
    "        extra_features = [feature for feature in all_features if feature not in shared_features]\n",
    "        print(f\"File: {file_path} has extra features: {extra_features}\")\n",
    "    full_data = pd.concat([full_data, temp_df], ignore_index=True)\n",
    "\n",
    "full_data.shape"
   ]
  },
  {
   "cell_type": "markdown",
   "id": "24ca95ac",
   "metadata": {},
   "source": [
    "# Dataset cleaning"
   ]
  },
  {
   "cell_type": "markdown",
   "id": "d87d28bc",
   "metadata": {},
   "source": [
    "## Fixing NA'S"
   ]
  },
  {
   "cell_type": "code",
   "execution_count": 50,
   "id": "9cbc6be3",
   "metadata": {},
   "outputs": [
    {
     "data": {
      "image/png": "[encoded data removed]",
      "text/plain": [
       "<Figure size 640x480 with 1 Axes>"
      ]
     },
     "metadata": {},
     "output_type": "display_data"
    }
   ],
   "source": [
    "# Count the proportion of missing values for each feature\n",
    "na_sums = full_data.isnull().sum().sort_values(ascending=False)/full_data.shape[0]\n",
    "\n",
    "# Plot a simple histohgram of the missing value proportions\n",
    "plt.hist(x=na_sums[na_sums > 0],bins=20)\n",
    "plt.xticks(rotation=90)\n",
    "plt.title(\"Distribution of missing values across features\")\n",
    "plt.show()"
   ]
  },
  {
   "cell_type": "markdown",
   "id": "863cf236",
   "metadata": {},
   "source": [
    "## First thoughts on encoding"
   ]
  },
  {
   "cell_type": "code",
   "execution_count": 51,
   "id": "b7e39eae",
   "metadata": {},
   "outputs": [
    {
     "name": "stdout",
     "output_type": "stream",
     "text": [
      "Total unique teams: 478\n"
     ]
    }
   ],
   "source": [
    "# Let's see how many unique teams we have in the dataset\n",
    "union_teams = set(limited_data['HomeTeam']).union(set(limited_data['AwayTeam']))\n",
    "# Sets only allow unique values and union combines both sets, so this gives us all unique teams\n",
    "\n",
    "print(f\"Total unique teams: {len(union_teams)}\")"
   ]
  },
  {
   "cell_type": "markdown",
   "id": "fbbfa699",
   "metadata": {},
   "source": [
    "There are 478 teams in total in our dataset, which is not a small number. One-hot encoding both columns would push our dataset to almost a 1000 features and would make it very sparse. If we decide to use target encoding, there is a pretty good chance that some new teams might appear in the test set, so we might have to encode before splitting into the train and test sets. This is definitely a risk of data leakage."
   ]
  },
  {
   "cell_type": "markdown",
   "id": "a958c01e",
   "metadata": {},
   "source": [
    "## Enhancing the limited dataset"
   ]
  },
  {
   "cell_type": "code",
   "execution_count": 52,
   "id": "0e5812f6",
   "metadata": {},
   "outputs": [
    {
     "name": "stdout",
     "output_type": "stream",
     "text": [
      "<class 'pandas.core.frame.DataFrame'>\n",
      "RangeIndex: 42593 entries, 0 to 42592\n",
      "Data columns (total 9 columns):\n",
      " #   Column    Non-Null Count  Dtype \n",
      "---  ------    --------------  ----- \n",
      " 0   Div       42593 non-null  object\n",
      " 1   Date      42593 non-null  object\n",
      " 2   Time      42593 non-null  object\n",
      " 3   HomeTeam  42593 non-null  object\n",
      " 4   AwayTeam  42593 non-null  object\n",
      " 5   FTHG      42593 non-null  int64 \n",
      " 6   FTAG      42593 non-null  int64 \n",
      " 7   FTR       42593 non-null  object\n",
      " 8   Season    42593 non-null  object\n",
      "dtypes: int64(2), object(7)\n",
      "memory usage: 2.9+ MB\n"
     ]
    }
   ],
   "source": [
    "limited_data.info()"
   ]
  },
  {
   "cell_type": "markdown",
   "id": "10d9f94a",
   "metadata": {},
   "source": [
    "Let's ensure that the `Date` and `Time` columns are in the correct format :)\n"
   ]
  },
  {
   "cell_type": "code",
   "execution_count": 53,
   "id": "2d1e2498",
   "metadata": {},
   "outputs": [
    {
     "name": "stdout",
     "output_type": "stream",
     "text": [
      "Changing 'Date' column from <class 'str'> to <class 'datetime.date'>\n",
      "Changing 'Time' column from <class 'str'> to <class 'datetime.time'>\n",
      "Current column types:\n",
      "Date: <class 'datetime.date'>,\n",
      "Time: <class 'datetime.time'>\n"
     ]
    }
   ],
   "source": [
    "# These are the types we want\n",
    "desired_date_type = datetime.date\n",
    "desired_time_type = datetime.time\n",
    "\n",
    "# The if statements ensure that the code can be run multiple times without error\n",
    "# If the types are already correct, no conversion is done\n",
    "# If the types are incorrect, we convert them into the desired types and print a message :)\n",
    "if type(limited_data[\"Date\"].iloc[0]) != desired_date_type:\n",
    "    print(f\"Changing 'Date' column from {type(limited_data['Date'].iloc[0])} to {desired_date_type}\")\n",
    "    limited_data[\"Date\"] = pd.to_datetime(limited_data[\"Date\"], format=\"%d/%m/%Y\").dt.date\n",
    "\n",
    "if type(limited_data[\"Time\"].iloc[0]) != desired_time_type:\n",
    "    print(f\"Changing 'Time' column from {type(limited_data['Time'].iloc[0])} to {desired_time_type}\")\n",
    "    limited_data[\"Time\"] = pd.to_datetime(limited_data[\"Time\"], format=\"%H:%M\").dt.time\n",
    "\n",
    "# Double check the types, this prints even if no changes were made\n",
    "print(f\"Current column types:\\nDate: {type(limited_data['Date'].iloc[0])},\\nTime: {type(limited_data['Time'].iloc[0])}\")"
   ]
  },
  {
   "cell_type": "markdown",
   "id": "5d32e2ae",
   "metadata": {},
   "source": [
    "Triple baaam! 💥💥💥"
   ]
  },
  {
   "cell_type": "markdown",
   "id": "a48009bb",
   "metadata": {},
   "source": [
    "OK. Now, that the dates are acutally in a date format, let's look if the season start dates and end dates look correct."
   ]
  },
  {
   "cell_type": "markdown",
   "id": "58111f41",
   "metadata": {},
   "source": [
    "### Season range check"
   ]
  },
  {
   "cell_type": "code",
   "execution_count": 54,
   "id": "c9060693",
   "metadata": {},
   "outputs": [
    {
     "name": "stdout",
     "output_type": "stream",
     "text": [
      "Season: 1920, Date Range: 2019-07-26 to 2020-08-07\n",
      "Season: 2021, Date Range: 2020-08-01 to 2021-05-30\n",
      "Season: 2122, Date Range: 2021-07-23 to 2022-05-29\n",
      "Season: 2223, Date Range: 2022-07-15 to 2023-06-07\n",
      "Season: 2324, Date Range: 2023-07-28 to 2024-06-02\n",
      "Season: 2425, Date Range: 2024-07-26 to 2025-06-01\n"
     ]
    }
   ],
   "source": [
    "seasons = limited_data[\"Season\"].unique()\n",
    "for season in seasons:\n",
    "    min_date = limited_data[limited_data[\"Season\"] == season][\"Date\"].min()\n",
    "    max_date = limited_data[limited_data[\"Season\"] == season][\"Date\"].max()\n",
    "    print(f\"Season: {season}, Date Range: {min_date} to {max_date}\")"
   ]
  },
  {
   "cell_type": "markdown",
   "id": "319b5c0d",
   "metadata": {},
   "source": [
    "We do see some overlap, but that might occur due to differences between countries."
   ]
  },
  {
   "cell_type": "markdown",
   "id": "cebe93bf",
   "metadata": {},
   "source": [
    "### Target variable"
   ]
  },
  {
   "cell_type": "markdown",
   "id": "9499cd7f",
   "metadata": {},
   "source": [
    "Let's create the target variable, which will equal to 1 for matches ending with 3 or more goals and 0 for the ones ending with 2 or less."
   ]
  },
  {
   "cell_type": "code",
   "execution_count": 45,
   "id": "565cb693",
   "metadata": {},
   "outputs": [
    {
     "data": {
      "text/html": [
       "<div>\n",
       "<style scoped>\n",
       "    .dataframe tbody tr th:only-of-type {\n",
       "        vertical-align: middle;\n",
       "    }\n",
       "\n",
       "    .dataframe tbody tr th {\n",
       "        vertical-align: top;\n",
       "    }\n",
       "\n",
       "    .dataframe thead th {\n",
       "        text-align: right;\n",
       "    }\n",
       "</style>\n",
       "<table border=\"1\" class=\"dataframe\">\n",
       "  <thead>\n",
       "    <tr style=\"text-align: right;\">\n",
       "      <th></th>\n",
       "      <th>Div</th>\n",
       "      <th>Date</th>\n",
       "      <th>Time</th>\n",
       "      <th>HomeTeam</th>\n",
       "      <th>AwayTeam</th>\n",
       "      <th>FTHG</th>\n",
       "      <th>FTAG</th>\n",
       "      <th>FTR</th>\n",
       "      <th>Target</th>\n",
       "    </tr>\n",
       "  </thead>\n",
       "  <tbody>\n",
       "    <tr>\n",
       "      <th>0</th>\n",
       "      <td>B1</td>\n",
       "      <td>2019-07-26</td>\n",
       "      <td>19:30:00</td>\n",
       "      <td>Genk</td>\n",
       "      <td>Kortrijk</td>\n",
       "      <td>2</td>\n",
       "      <td>1</td>\n",
       "      <td>H</td>\n",
       "      <td>1</td>\n",
       "    </tr>\n",
       "    <tr>\n",
       "      <th>1</th>\n",
       "      <td>B1</td>\n",
       "      <td>2019-07-27</td>\n",
       "      <td>17:00:00</td>\n",
       "      <td>Cercle Brugge</td>\n",
       "      <td>Standard</td>\n",
       "      <td>0</td>\n",
       "      <td>2</td>\n",
       "      <td>A</td>\n",
       "      <td>0</td>\n",
       "    </tr>\n",
       "    <tr>\n",
       "      <th>2</th>\n",
       "      <td>B1</td>\n",
       "      <td>2019-07-27</td>\n",
       "      <td>19:00:00</td>\n",
       "      <td>St Truiden</td>\n",
       "      <td>Mouscron</td>\n",
       "      <td>0</td>\n",
       "      <td>1</td>\n",
       "      <td>A</td>\n",
       "      <td>0</td>\n",
       "    </tr>\n",
       "    <tr>\n",
       "      <th>3</th>\n",
       "      <td>B1</td>\n",
       "      <td>2019-07-27</td>\n",
       "      <td>19:00:00</td>\n",
       "      <td>Waregem</td>\n",
       "      <td>Mechelen</td>\n",
       "      <td>0</td>\n",
       "      <td>2</td>\n",
       "      <td>A</td>\n",
       "      <td>0</td>\n",
       "    </tr>\n",
       "    <tr>\n",
       "      <th>4</th>\n",
       "      <td>B1</td>\n",
       "      <td>2019-07-27</td>\n",
       "      <td>19:30:00</td>\n",
       "      <td>Waasland-Beveren</td>\n",
       "      <td>Club Brugge</td>\n",
       "      <td>1</td>\n",
       "      <td>3</td>\n",
       "      <td>A</td>\n",
       "      <td>1</td>\n",
       "    </tr>\n",
       "  </tbody>\n",
       "</table>\n",
       "</div>"
      ],
      "text/plain": [
       "  Div       Date      Time          HomeTeam     AwayTeam  FTHG  FTAG FTR  \\\n",
       "0  B1 2019-07-26  19:30:00              Genk     Kortrijk     2     1   H   \n",
       "1  B1 2019-07-27  17:00:00     Cercle Brugge     Standard     0     2   A   \n",
       "2  B1 2019-07-27  19:00:00        St Truiden     Mouscron     0     1   A   \n",
       "3  B1 2019-07-27  19:00:00           Waregem     Mechelen     0     2   A   \n",
       "4  B1 2019-07-27  19:30:00  Waasland-Beveren  Club Brugge     1     3   A   \n",
       "\n",
       "   Target  \n",
       "0       1  \n",
       "1       0  \n",
       "2       0  \n",
       "3       0  \n",
       "4       1  "
      ]
     },
     "execution_count": 45,
     "metadata": {},
     "output_type": "execute_result"
    }
   ],
   "source": [
    "limited_data[\"Target\"] = [1 if i > 2.5 else 0 for i in np.add(limited_data[\"FTHG\"],limited_data[\"FTAG\"])]\n",
    "limited_data.head()"
   ]
  },
  {
   "cell_type": "markdown",
   "id": "d5a363a1",
   "metadata": {},
   "source": [
    "## Feature engineering"
   ]
  },
  {
   "cell_type": "markdown",
   "id": "df4919c7",
   "metadata": {},
   "source": [
    "Just jotting ideas down: \n",
    "- add a TimeOfDay column with 0 being 00:00 and 1 being 23:59, so we can model the deppendency on time\n",
    "- add a SeasonProgress column with 0 being the first day of season and 1 being the last day of season\n",
    "- add a column with the FTHF value for the last home team's match and another with the FTAG for the away team's last match\n",
    "- maybe add a column that shows remaining matches in the season for each team?\n",
    "    - my reasoning behind this is that last matches in the season could be more competetive resulting in more / less goals\n",
    "- would it be possible to compute team's position in the league ranking?"
   ]
  }
 ],
 "metadata": {
  "kernelspec": {
   "display_name": ".venv",
   "language": "python",
   "name": "python3"
  },
  "language_info": {
   "codemirror_mode": {
    "name": "ipython",
    "version": 3
   },
   "file_extension": ".py",
   "mimetype": "text/x-python",
   "name": "python",
   "nbconvert_exporter": "python",
   "pygments_lexer": "ipython3",
   "version": "3.12.6"
  }
 },
 "nbformat": 4,
 "nbformat_minor": 5
}
